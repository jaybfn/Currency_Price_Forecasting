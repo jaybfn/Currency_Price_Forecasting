{
 "cells": [
  {
   "cell_type": "code",
   "execution_count": null,
   "metadata": {},
   "outputs": [],
   "source": [
    "#pip install --upgrade --no-cache-dir git+https://github.com/StreamAlpha/tvdatafeed.git "
   ]
  },
  {
   "cell_type": "code",
   "execution_count": 1,
   "metadata": {},
   "outputs": [],
   "source": [
    "import sys\n",
    "sys.path.append('../scripts/')\n",
    "\n",
    "from tvDatafeed import TvDatafeed, Interval\n",
    "from credential import tradingview as settings\n",
    "\n",
    "username = settings['username']\n",
    "password = settings['password']\n"
   ]
  },
  {
   "cell_type": "code",
   "execution_count": 2,
   "metadata": {},
   "outputs": [],
   "source": [
    "tv = TvDatafeed(username, password)"
   ]
  },
  {
   "cell_type": "code",
   "execution_count": 3,
   "metadata": {},
   "outputs": [],
   "source": [
    "def get_historical_data(tv, symbol_exchange_dict, interval, n_bars):\n",
    "    result = {}\n",
    "    for symbol, exchange in symbol_exchange_dict.items():\n",
    "        data = tv.get_hist(symbol=symbol, exchange=exchange, interval=interval, n_bars=n_bars)\n",
    "        data.reset_index(inplace=True)\n",
    "        result[symbol] = data\n",
    "    return result\n",
    "\n",
    "# Create an instance of TvDatafeed class\n",
    "tv = TvDatafeed(username, password)\n",
    "\n",
    "# Define symbol and exchange dictionary\n",
    "symbol_exchange_dict = {\n",
    "    'XAUUSD': 'OANDA',\n",
    "    'DXY': 'TVC',\n",
    "    'USOIL': 'TVC',\n",
    "    'USINTR': 'ECONOMICS',\n",
    "    'SPX500USD': 'OANDA'\n",
    "}\n",
    "\n",
    "# Get historical data for symbols and exchanges in the dictionary\n",
    "historical_data = get_historical_data(tv, symbol_exchange_dict, interval=Interval.in_daily, n_bars=10000)\n",
    "\n",
    "# Access individual dataframes\n",
    "gold_data = historical_data['XAUUSD']\n",
    "dollarIndex_data = historical_data['DXY']\n",
    "oil_data = historical_data['USOIL']\n",
    "interestrate_data = historical_data['USINTR']\n",
    "SP500 = historical_data['SPX500USD']"
   ]
  },
  {
   "cell_type": "code",
   "execution_count": 7,
   "metadata": {},
   "outputs": [
    {
     "data": {
      "text/html": [
       "<div>\n",
       "<style scoped>\n",
       "    .dataframe tbody tr th:only-of-type {\n",
       "        vertical-align: middle;\n",
       "    }\n",
       "\n",
       "    .dataframe tbody tr th {\n",
       "        vertical-align: top;\n",
       "    }\n",
       "\n",
       "    .dataframe thead th {\n",
       "        text-align: right;\n",
       "    }\n",
       "</style>\n",
       "<table border=\"1\" class=\"dataframe\">\n",
       "  <thead>\n",
       "    <tr style=\"text-align: right;\">\n",
       "      <th></th>\n",
       "      <th>datetime</th>\n",
       "      <th>symbol</th>\n",
       "      <th>open</th>\n",
       "      <th>high</th>\n",
       "      <th>low</th>\n",
       "      <th>close</th>\n",
       "      <th>volume</th>\n",
       "    </tr>\n",
       "  </thead>\n",
       "  <tbody>\n",
       "    <tr>\n",
       "      <th>0</th>\n",
       "      <td>2003-03-23 23:00:00</td>\n",
       "      <td>OANDA:SPX500USD</td>\n",
       "      <td>882.7</td>\n",
       "      <td>883.2</td>\n",
       "      <td>861.9</td>\n",
       "      <td>864.4</td>\n",
       "      <td>823.0</td>\n",
       "    </tr>\n",
       "    <tr>\n",
       "      <th>1</th>\n",
       "      <td>2003-03-24 23:00:00</td>\n",
       "      <td>OANDA:SPX500USD</td>\n",
       "      <td>864.4</td>\n",
       "      <td>880.4</td>\n",
       "      <td>857.6</td>\n",
       "      <td>874.2</td>\n",
       "      <td>815.0</td>\n",
       "    </tr>\n",
       "    <tr>\n",
       "      <th>2</th>\n",
       "      <td>2003-03-25 23:00:00</td>\n",
       "      <td>OANDA:SPX500USD</td>\n",
       "      <td>874.2</td>\n",
       "      <td>876.7</td>\n",
       "      <td>866.6</td>\n",
       "      <td>869.6</td>\n",
       "      <td>791.0</td>\n",
       "    </tr>\n",
       "    <tr>\n",
       "      <th>3</th>\n",
       "      <td>2003-03-26 23:00:00</td>\n",
       "      <td>OANDA:SPX500USD</td>\n",
       "      <td>869.6</td>\n",
       "      <td>874.9</td>\n",
       "      <td>858.1</td>\n",
       "      <td>868.9</td>\n",
       "      <td>770.0</td>\n",
       "    </tr>\n",
       "    <tr>\n",
       "      <th>4</th>\n",
       "      <td>2003-03-27 23:00:00</td>\n",
       "      <td>OANDA:SPX500USD</td>\n",
       "      <td>868.9</td>\n",
       "      <td>870.4</td>\n",
       "      <td>860.8</td>\n",
       "      <td>863.9</td>\n",
       "      <td>787.0</td>\n",
       "    </tr>\n",
       "    <tr>\n",
       "      <th>...</th>\n",
       "      <td>...</td>\n",
       "      <td>...</td>\n",
       "      <td>...</td>\n",
       "      <td>...</td>\n",
       "      <td>...</td>\n",
       "      <td>...</td>\n",
       "      <td>...</td>\n",
       "    </tr>\n",
       "    <tr>\n",
       "      <th>5208</th>\n",
       "      <td>2023-05-23 23:00:00</td>\n",
       "      <td>OANDA:SPX500USD</td>\n",
       "      <td>4150.0</td>\n",
       "      <td>4156.7</td>\n",
       "      <td>4105.2</td>\n",
       "      <td>4141.4</td>\n",
       "      <td>27145.0</td>\n",
       "    </tr>\n",
       "    <tr>\n",
       "      <th>5209</th>\n",
       "      <td>2023-05-24 23:00:00</td>\n",
       "      <td>OANDA:SPX500USD</td>\n",
       "      <td>4141.4</td>\n",
       "      <td>4166.0</td>\n",
       "      <td>4122.7</td>\n",
       "      <td>4149.5</td>\n",
       "      <td>33422.0</td>\n",
       "    </tr>\n",
       "    <tr>\n",
       "      <th>5210</th>\n",
       "      <td>2023-05-25 23:00:00</td>\n",
       "      <td>OANDA:SPX500USD</td>\n",
       "      <td>4149.5</td>\n",
       "      <td>4213.2</td>\n",
       "      <td>4136.4</td>\n",
       "      <td>4211.6</td>\n",
       "      <td>24610.0</td>\n",
       "    </tr>\n",
       "    <tr>\n",
       "      <th>5211</th>\n",
       "      <td>2023-05-28 23:00:00</td>\n",
       "      <td>OANDA:SPX500USD</td>\n",
       "      <td>4211.6</td>\n",
       "      <td>4230.3</td>\n",
       "      <td>4211.6</td>\n",
       "      <td>4217.2</td>\n",
       "      <td>9179.0</td>\n",
       "    </tr>\n",
       "    <tr>\n",
       "      <th>5212</th>\n",
       "      <td>2023-05-29 23:00:00</td>\n",
       "      <td>OANDA:SPX500USD</td>\n",
       "      <td>4217.2</td>\n",
       "      <td>4234.6</td>\n",
       "      <td>4194.2</td>\n",
       "      <td>4208.6</td>\n",
       "      <td>29587.0</td>\n",
       "    </tr>\n",
       "  </tbody>\n",
       "</table>\n",
       "<p>5213 rows × 7 columns</p>\n",
       "</div>"
      ],
      "text/plain": [
       "                datetime           symbol    open    high     low   close  \\\n",
       "0    2003-03-23 23:00:00  OANDA:SPX500USD   882.7   883.2   861.9   864.4   \n",
       "1    2003-03-24 23:00:00  OANDA:SPX500USD   864.4   880.4   857.6   874.2   \n",
       "2    2003-03-25 23:00:00  OANDA:SPX500USD   874.2   876.7   866.6   869.6   \n",
       "3    2003-03-26 23:00:00  OANDA:SPX500USD   869.6   874.9   858.1   868.9   \n",
       "4    2003-03-27 23:00:00  OANDA:SPX500USD   868.9   870.4   860.8   863.9   \n",
       "...                  ...              ...     ...     ...     ...     ...   \n",
       "5208 2023-05-23 23:00:00  OANDA:SPX500USD  4150.0  4156.7  4105.2  4141.4   \n",
       "5209 2023-05-24 23:00:00  OANDA:SPX500USD  4141.4  4166.0  4122.7  4149.5   \n",
       "5210 2023-05-25 23:00:00  OANDA:SPX500USD  4149.5  4213.2  4136.4  4211.6   \n",
       "5211 2023-05-28 23:00:00  OANDA:SPX500USD  4211.6  4230.3  4211.6  4217.2   \n",
       "5212 2023-05-29 23:00:00  OANDA:SPX500USD  4217.2  4234.6  4194.2  4208.6   \n",
       "\n",
       "       volume  \n",
       "0       823.0  \n",
       "1       815.0  \n",
       "2       791.0  \n",
       "3       770.0  \n",
       "4       787.0  \n",
       "...       ...  \n",
       "5208  27145.0  \n",
       "5209  33422.0  \n",
       "5210  24610.0  \n",
       "5211   9179.0  \n",
       "5212  29587.0  \n",
       "\n",
       "[5213 rows x 7 columns]"
      ]
     },
     "execution_count": 7,
     "metadata": {},
     "output_type": "execute_result"
    }
   ],
   "source": [
    "SP500"
   ]
  },
  {
   "cell_type": "code",
   "execution_count": null,
   "metadata": {},
   "outputs": [],
   "source": [
    "# index\n",
    "gold_data = tv.get_hist(symbol='XAUUSD',exchange='OANDA',interval=Interval.in_daily,n_bars=10000)\n",
    "\n",
    "# futures continuous contract\n",
    "#nifty_futures_data = tv.get_hist(symbol='NIFTY',exchange='NSE',interval=Interval.in_1_hour,n_bars=1000,fut_contract=1)\n",
    "\n",
    "# crudeoil\n",
    "#crudeoil_data = tv.get_hist(symbol='CRUDEOIL',exchange='MCX',interval=Interval.in_1_hour,n_bars=5000,fut_contract=1)\n",
    "\n",
    "# downloading data for extended market hours\n",
    "#extended_price_data = tv.get_hist(symbol=\"EICHERMOT\",exchange=\"NSE\",interval=Interval.in_1_hour,n_bars=500, extended_session=False)"
   ]
  },
  {
   "cell_type": "code",
   "execution_count": null,
   "metadata": {},
   "outputs": [],
   "source": [
    "gold_data = gold_data.reset_index()\n",
    "gold_data"
   ]
  },
  {
   "cell_type": "code",
   "execution_count": null,
   "metadata": {},
   "outputs": [],
   "source": [
    "dollarIndex_data = tv.get_hist(symbol='DXY',exchange='TVC',interval=Interval.in_daily,n_bars=10000)\n",
    "dollarIndex_data.reset_index(inplace=True)\n"
   ]
  },
  {
   "cell_type": "code",
   "execution_count": null,
   "metadata": {},
   "outputs": [],
   "source": [
    "dollarIndex_data"
   ]
  },
  {
   "cell_type": "code",
   "execution_count": null,
   "metadata": {},
   "outputs": [],
   "source": [
    "oil_data = tv.get_hist(symbol='USOIL',exchange='TVC',interval=Interval.in_daily,n_bars=10000)\n",
    "oil_data.reset_index(inplace = True)\n",
    "oil_data"
   ]
  },
  {
   "cell_type": "code",
   "execution_count": null,
   "metadata": {},
   "outputs": [],
   "source": [
    "interestrate_data = tv.get_hist(symbol='USINTR',exchange='ECONOMICS',interval=Interval.in_daily,n_bars=10000)\n",
    "interestrate_data.reset_index(inplace = True)\n",
    "interestrate_data"
   ]
  },
  {
   "cell_type": "code",
   "execution_count": null,
   "metadata": {},
   "outputs": [],
   "source": [
    "SP500 = tv.get_hist(symbol='SPX500USD',exchange = 'OANDA',interval=Interval.in_daily,n_bars=10000)\n"
   ]
  },
  {
   "cell_type": "code",
   "execution_count": null,
   "metadata": {},
   "outputs": [],
   "source": [
    "SP500.reset_index(inplace = True)\n",
    "SP500"
   ]
  },
  {
   "cell_type": "code",
   "execution_count": null,
   "metadata": {},
   "outputs": [],
   "source": []
  }
 ],
 "metadata": {
  "kernelspec": {
   "display_name": "deepL",
   "language": "python",
   "name": "python3"
  },
  "language_info": {
   "codemirror_mode": {
    "name": "ipython",
    "version": 3
   },
   "file_extension": ".py",
   "mimetype": "text/x-python",
   "name": "python",
   "nbconvert_exporter": "python",
   "pygments_lexer": "ipython3",
   "version": "3.9.15"
  },
  "orig_nbformat": 4,
  "vscode": {
   "interpreter": {
    "hash": "b90cab7ea642421f44636989edaf96d86cb1abe354b45ce6eed3b362842c2584"
   }
  }
 },
 "nbformat": 4,
 "nbformat_minor": 2
}
